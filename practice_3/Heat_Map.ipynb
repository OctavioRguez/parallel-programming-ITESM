{
  "nbformat": 4,
  "nbformat_minor": 0,
  "metadata": {
    "colab": {
      "provenance": []
    },
    "kernelspec": {
      "name": "python3",
      "display_name": "Python 3"
    },
    "language_info": {
      "name": "python"
    }
  },
  "cells": [
    {
      "cell_type": "code",
      "execution_count": null,
      "metadata": {
        "id": "JYb5smPlrItn"
      },
      "outputs": [],
      "source": [
        "\"\"\"\n",
        "Autor:\n",
        "Misael Octavio Rodríguez Macías A01639786\n",
        "Con apoyo de:\n",
        "https://levelup.gitconnected.com/solving-2d-heat-equation-numerically-using-python-3334004aa01a\n",
        "\"\"\"\n",
        "import numpy as np\n",
        "import matplotlib.pyplot as plt\n",
        "import matplotlib.animation as animation\n",
        "from matplotlib.animation import FuncAnimation\n",
        "\n",
        "#Size from the Temperature Matrix\n",
        "row_num = 6\n",
        "col_num = 7\n",
        "\n",
        "#Values for the heat equation\n",
        "max_iter_time = 81\n",
        "alpha = 2.0\n",
        "delta_x = 1\n",
        "delta_t = (delta_x ** 2)/(4 * alpha)\n",
        "gamma = (alpha * delta_t) / (delta_x ** 2)\n",
        "\n",
        "#Values from the random Temperature Matrix\n",
        "temp = [\n",
        "[58, 47, 43, 30, 24, 59, 58], \n",
        "[57, 45, 3, 48, 44, 38, 2],\n",
        "[54, 21, 97, 64, 82, 2, 6],\n",
        "[5, 8, 63, 98, 76, 0, 55],\n",
        "[57, 40, 81, 88, 96, 40, 40],\n",
        "[30, 39, 6, 47, 16, 7, 49]]\n",
        "\n",
        "#3D temperature matrix over time\n",
        "u = np.empty((max_iter_time, row_num, col_num))\n",
        "\n",
        "#Fill 3d matrix\n",
        "for k in range(0, max_iter_time):\n",
        "  for i in range(0, row_num):\n",
        "    for j in range(0, col_num):\n",
        "      u[k, i, j] = temp[i][j]\n",
        "\n",
        "#Solve heat equation over time\n",
        "for k in range(0, max_iter_time-1, 1):\n",
        "  for i in range(1, row_num - 1, delta_x):\n",
        "    for j in range(1, col_num - 1, delta_x):\n",
        "      u[k + 1, i, j] = gamma * (u[k][i+1][j] + u[k][i-1][j] + u[k][i][j+1] + u[k][i][j-1] - 4*u[k][i][j]) + u[k][i][j]\n",
        "\n",
        "#Function to plot heat map \n",
        "def plotheatmap(u_k, k):\n",
        "    plt.clf()\n",
        "\n",
        "    plt.title(f\"Temperature at t = {k*delta_t:.3f} unit time\")\n",
        "    plt.xlabel(\"x\")\n",
        "    plt.ylabel(\"y\")\n",
        "\n",
        "    plt.pcolormesh(u_k, cmap=plt.cm.jet, vmin=0, vmax=100)\n",
        "    plt.colorbar()\n",
        "\n",
        "    return plt\n",
        "\n",
        "#Function to animate the heat map over time\n",
        "def animate(k):\n",
        "    plotheatmap(u[k], k)\n",
        "\n",
        "#Generate mp4 video of the animation\n",
        "anim = animation.FuncAnimation(plt.figure(), animate, interval=1, frames=max_iter_time, repeat=False)\n",
        "writervideo = animation.FFMpegWriter(fps=5)\n",
        "anim.save('heat_equation_solution.mp4', writer=writervideo)\n",
        "plt.close()"
      ]
    }
  ]
}